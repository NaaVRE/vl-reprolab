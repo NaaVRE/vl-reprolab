{
 "cells": [
  {
   "cell_type": "markdown",
   "id": "f5f9d3ae-ebb1-457c-adff-0d5fcc718ed8",
   "metadata": {},
   "source": [
    "### Reprolab example notebook\n",
    "This is a notebook which you can use to try out ReproLab. \n",
    "\n",
    "Follow the tutorial in the README.md to get started. The reprolab demo will not work unless you run it from your home directory."
   ]
  },
  {
   "cell_type": "code",
   "execution_count": null,
   "id": "eeb242b2-c3d0-44fd-a829-20c878fed90e",
   "metadata": {},
   "outputs": [],
   "source": [
    "!pip install matplotlib "
   ]
  },
  {
   "cell_type": "code",
   "execution_count": null,
   "id": "ab5e8bed-f125-4a52-b438-04a5515eca27",
   "metadata": {},
   "outputs": [],
   "source": [
    "# Get dummy datasets\n",
    "from datetime import datetime\n",
    "import random\n",
    "from reprolab.experiment import persistio\n",
    "\n",
    "datetime_of_data_retrieval = datetime.strptime('23/09/25 15:16:26', '%d/%m/%y %H:%M:%S')\n",
    "\n",
    "def get_dummy_data(datetime):\n",
    "    random_integers = [random.randint(0, 100) for _ in range(10)]\n",
    "    correlated_integers = [x + random.randint(-50, 50) for x in random_integers]\n",
    "    return random_integers, correlated_integers, datetime\n",
    "    \n",
    "'''\n",
    "When a function with persistio decorator is run, it checks whether the function has been run previously.\n",
    "If the function has been run previously, the same output will be given as the previous times the function was run.\n",
    "Thus the result of the function will always be the same.\n",
    "\n",
    "The persistio decorator helps ensure the reproducibility of data analysis \n",
    "by saving the exact dataset used at the time of an analysis. \n",
    "This is particularly useful when the data source is dynamic, \n",
    "like a continuously updated database without versioning or timestamps. \n",
    "By capturing and storing a static snapshot of the data, \n",
    "persistio allows you to re-run the analysis and get the same results, \n",
    "regardless of how the underlying database changes. \n",
    "'''\n",
    "@persistio()\n",
    "def retrieve_data_from_api(datetime):\n",
    "    return get_dummy_data(datetime)\n",
    "\n",
    "last_random_ints, last_correlated_ints, last_fetch_time = get_dummy_data(datetime.now())\n",
    "cached_random_ints, cached_correlated_ints, cached_fetch_time = get_dummy_data(datetime_of_data_retrieval)"
   ]
  },
  {
   "cell_type": "code",
   "execution_count": null,
   "id": "f3077a68-d429-4cda-96cc-d25952986b40",
   "metadata": {},
   "outputs": [],
   "source": [
    "# Print the data\n",
    "from datetime import datetime\n",
    "import matplotlib.pyplot as plt\n",
    "import numpy as np\n",
    "\n",
    "def get_linear_fit(x_array, y_array):\n",
    "    slope, y_intercept = np.polyfit(x_array, y_array, 1)\n",
    "    return slope, y_intercept\n",
    "\n",
    "def plot_linear_fit(x_array, y_array, color):\n",
    "    slope, y_intercept = get_linear_fit(x_array, y_array)\n",
    "    minimum_x = min(x_array)\n",
    "    maximum_x = max(x_array)\n",
    "    linear_fit_x = [minimum_x, maximum_x]\n",
    "    linear_fit_y = [y_intercept + minimum_x*slope, y_intercept + maximum_x*slope]\n",
    "    label = f\"linear fit, y intercept = {y_intercept:.2f}, slope = {slope:.2f}\"\n",
    "    plt.plot(linear_fit_x, linear_fit_y, color, label=label)\n",
    "\n",
    "def plot_data_and_linear_fit(x_array, y_array, datetime, color):\n",
    "    plt.scatter(x_array, y_array, color=color, label=f\"data from {datetime.strftime(\"%Y-%m-%d %H:%M:%S\")}\")\n",
    "    plot_linear_fit(x_array, y_array, color)\n",
    "\n",
    "plot_data_and_linear_fit(cached_random_ints, cached_correlated_ints, cached_fetch_time, \"blue\")\n",
    "plot_data_and_linear_fit(last_random_ints, last_correlated_ints, last_fetch_time, \"red\")\n",
    "plt.legend(bbox_to_anchor=(1.05, 1), loc='upper left', borderaxespad=0.)\n",
    "plt.xlabel(\"random integers\")\n",
    "plt.ylabel(\"correlated integers\")"
   ]
  },
  {
   "cell_type": "code",
   "execution_count": null,
   "id": "fb5499ea-7786-42c2-ad35-15e117413a8a",
   "metadata": {},
   "outputs": [],
   "source": []
  }
 ],
 "metadata": {
  "kernelspec": {
   "display_name": "Python [conda env:reprolab]",
   "language": "python",
   "name": "conda-env-reprolab-py"
  },
  "language_info": {
   "codemirror_mode": {
    "name": "ipython",
    "version": 3
   },
   "file_extension": ".py",
   "mimetype": "text/x-python",
   "name": "python",
   "nbconvert_exporter": "python",
   "pygments_lexer": "ipython3",
   "version": "3.13.7"
  }
 },
 "nbformat": 4,
 "nbformat_minor": 5
}
